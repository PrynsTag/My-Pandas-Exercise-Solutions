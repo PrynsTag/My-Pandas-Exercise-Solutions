{
 "cells": [
  {
   "cell_type": "markdown",
   "metadata": {},
   "source": [
    "# Regiment"
   ]
  },
  {
   "cell_type": "markdown",
   "metadata": {},
   "source": [
    "### Introduction:\n",
    "\n",
    "Special thanks to: http://chrisalbon.com/ for sharing the dataset and materials.\n",
    "\n",
    "### Step 1. Import the necessary libraries"
   ]
  },
  {
   "cell_type": "code",
   "execution_count": null,
   "metadata": {
    "ExecuteTime": {
     "end_time": "2021-01-13T11:26:08.592103Z",
     "start_time": "2021-01-13T11:26:08.589574Z"
    }
   },
   "outputs": [],
   "source": [
    "import pandas as pd"
   ]
  },
  {
   "cell_type": "markdown",
   "metadata": {},
   "source": [
    "### Step 2. Create the DataFrame with the following values:"
   ]
  },
  {
   "cell_type": "code",
   "execution_count": null,
   "metadata": {
    "ExecuteTime": {
     "end_time": "2021-01-13T11:26:11.891015Z",
     "start_time": "2021-01-13T11:26:11.886181Z"
    }
   },
   "outputs": [],
   "source": [
    "raw_data = {'regiment': ['Nighthawks', 'Nighthawks', 'Nighthawks', 'Nighthawks', 'Dragoons', 'Dragoons', 'Dragoons', 'Dragoons', 'Scouts', 'Scouts', 'Scouts', 'Scouts'], \n",
    "        'company': ['1st', '1st', '2nd', '2nd', '1st', '1st', '2nd', '2nd','1st', '1st', '2nd', '2nd'], \n",
    "        'name': ['Miller', 'Jacobson', 'Ali', 'Milner', 'Cooze', 'Jacon', 'Ryaner', 'Sone', 'Sloan', 'Piger', 'Riani', 'Ali'], \n",
    "        'preTestScore': [4, 24, 31, 2, 3, 4, 24, 31, 2, 3, 2, 3],\n",
    "        'postTestScore': [25, 94, 57, 62, 70, 25, 94, 57, 62, 70, 62, 70]}"
   ]
  },
  {
   "cell_type": "markdown",
   "metadata": {},
   "source": [
    "### Step 3. Assign it to a variable called regiment.\n",
    "#### Don't forget to name each column"
   ]
  },
  {
   "cell_type": "code",
   "execution_count": null,
   "metadata": {
    "ExecuteTime": {
     "end_time": "2021-01-13T11:26:12.976581Z",
     "start_time": "2021-01-13T11:26:12.972052Z"
    }
   },
   "outputs": [],
   "source": [
    "regiment = pd.DataFrame(raw_data)"
   ]
  },
  {
   "cell_type": "code",
   "execution_count": null,
   "metadata": {
    "ExecuteTime": {
     "end_time": "2021-01-13T11:26:16.803391Z",
     "start_time": "2021-01-13T11:26:16.775251Z"
    }
   },
   "outputs": [],
   "source": [
    "regiment"
   ]
  },
  {
   "cell_type": "markdown",
   "metadata": {},
   "source": [
    "### Step 4. What is the mean preTestScore from the regiment Nighthawks?  "
   ]
  },
  {
   "cell_type": "code",
   "execution_count": null,
   "metadata": {
    "ExecuteTime": {
     "end_time": "2021-01-13T11:28:06.520103Z",
     "start_time": "2021-01-13T11:28:06.513586Z"
    }
   },
   "outputs": [],
   "source": [
    "regiment.groupby(\"regiment\").mean().loc[\"Nighthawks\", \"preTestScore\"]"
   ]
  },
  {
   "cell_type": "markdown",
   "metadata": {},
   "source": [
    "### Step 5. Present general statistics by company"
   ]
  },
  {
   "cell_type": "code",
   "execution_count": null,
   "metadata": {
    "ExecuteTime": {
     "end_time": "2021-01-13T12:42:23.882940Z",
     "start_time": "2021-01-13T12:42:23.856066Z"
    }
   },
   "outputs": [],
   "source": [
    "regiment.groupby(\"company\").describe().stack()"
   ]
  },
  {
   "cell_type": "markdown",
   "metadata": {},
   "source": [
    "### Step 6. What is the mean of each company's preTestScore?"
   ]
  },
  {
   "cell_type": "code",
   "execution_count": null,
   "metadata": {
    "ExecuteTime": {
     "end_time": "2021-01-13T13:10:09.064618Z",
     "start_time": "2021-01-13T13:10:09.048713Z"
    }
   },
   "outputs": [],
   "source": [
    "regiment.groupby(\"company\").mean()[\"preTestScore\"]\n",
    "# ------ OR ------ #\n",
    "pd.pivot_table(regiment, index=\"company\", values=\"preTestScore\")"
   ]
  },
  {
   "cell_type": "markdown",
   "metadata": {},
   "source": [
    "### Step 7. Present the mean preTestScores grouped by regiment and company"
   ]
  },
  {
   "cell_type": "code",
   "execution_count": null,
   "metadata": {
    "ExecuteTime": {
     "end_time": "2021-01-13T13:04:51.346010Z",
     "start_time": "2021-01-13T13:04:51.331061Z"
    }
   },
   "outputs": [],
   "source": [
    "regiment.groupby([\"regiment\", \"company\"]).mean()[\"preTestScore\"]\n",
    "# ------ OR ------ #\n",
    "pd.pivot_table(regiment, index=[\"regiment\", \"company\"], values=\"preTestScore\")[\"preTestScore\"]"
   ]
  },
  {
   "cell_type": "markdown",
   "metadata": {},
   "source": [
    "### Step 8. Present the mean preTestScores grouped by regiment and company without heirarchical indexing"
   ]
  },
  {
   "cell_type": "code",
   "execution_count": null,
   "metadata": {
    "ExecuteTime": {
     "end_time": "2021-01-13T13:01:43.045696Z",
     "start_time": "2021-01-13T13:01:43.028920Z"
    }
   },
   "outputs": [],
   "source": [
    "pd.pivot_table(regiment, index=\"regiment\", columns=\"company\", values=\"preTestScore\")\n",
    "# ------ OR ------ #\n",
    "regiment.groupby([\"regiment\", \"company\"]).mean()[\"preTestScore\"].unstack()"
   ]
  },
  {
   "cell_type": "markdown",
   "metadata": {},
   "source": [
    "### Step 9. Group the entire dataframe by regiment and company"
   ]
  },
  {
   "cell_type": "code",
   "execution_count": null,
   "metadata": {
    "ExecuteTime": {
     "end_time": "2021-01-13T13:09:14.639422Z",
     "start_time": "2021-01-13T13:09:14.623918Z"
    }
   },
   "outputs": [],
   "source": [
    "regiment.groupby([\"regiment\", \"company\"]).mean()\n",
    "# ------ OR ------ #\n",
    "pd.pivot_table(regiment, index=[\"regiment\", \"company\"])"
   ]
  },
  {
   "cell_type": "markdown",
   "metadata": {},
   "source": [
    "### Step 10. What is the number of observations in each regiment and company"
   ]
  },
  {
   "cell_type": "code",
   "execution_count": null,
   "metadata": {
    "ExecuteTime": {
     "end_time": "2021-01-13T13:08:04.261512Z",
     "start_time": "2021-01-13T13:08:04.252328Z"
    }
   },
   "outputs": [],
   "source": [
    "regiment.groupby([\"company\", \"regiment\"]).size()\n",
    "# ------ OR ------ #\n",
    "pd.pivot_table(regiment, index=[\"company\", \"regiment\"], aggfunc=\"size\")"
   ]
  },
  {
   "cell_type": "markdown",
   "metadata": {},
   "source": [
    "### Step 11. Iterate over a group and print the name and the whole data from the regiment"
   ]
  },
  {
   "cell_type": "code",
   "execution_count": null,
   "metadata": {
    "ExecuteTime": {
     "end_time": "2021-01-13T12:59:31.767898Z",
     "start_time": "2021-01-13T12:59:31.755223Z"
    }
   },
   "outputs": [],
   "source": [
    "for name, group in regiment.groupby(\"regiment\"):\n",
    "    print(name)\n",
    "    print(group)"
   ]
  }
 ],
 "metadata": {
  "kernelspec": {
   "display_name": "Python 3",
   "language": "python",
   "name": "python3"
  },
  "language_info": {
   "codemirror_mode": {
    "name": "ipython",
    "version": 3
   },
   "file_extension": ".py",
   "mimetype": "text/x-python",
   "name": "python",
   "nbconvert_exporter": "python",
   "pygments_lexer": "ipython3",
   "version": "3.8.5"
  },
  "toc": {
   "base_numbering": 1,
   "nav_menu": {},
   "number_sections": true,
   "sideBar": true,
   "skip_h1_title": false,
   "title_cell": "Table of Contents",
   "title_sidebar": "Contents",
   "toc_cell": false,
   "toc_position": {},
   "toc_section_display": true,
   "toc_window_display": false
  }
 },
 "nbformat": 4,
 "nbformat_minor": 1
}
