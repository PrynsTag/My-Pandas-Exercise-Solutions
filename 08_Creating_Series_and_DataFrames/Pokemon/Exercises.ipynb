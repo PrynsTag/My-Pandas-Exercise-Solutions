{
 "cells": [
  {
   "cell_type": "markdown",
   "metadata": {},
   "source": [
    "# Pokemon"
   ]
  },
  {
   "cell_type": "markdown",
   "metadata": {},
   "source": [
    "### Introduction:\n",
    "\n",
    "This time you will create the data.\n",
    "\n",
    "\n",
    "\n",
    "### Step 1. Import the necessary libraries"
   ]
  },
  {
   "cell_type": "code",
   "execution_count": null,
   "metadata": {
    "ExecuteTime": {
     "end_time": "2021-01-22T16:49:31.906511Z",
     "start_time": "2021-01-22T16:49:31.732433Z"
    }
   },
   "outputs": [],
   "source": [
    "import pandas as pd"
   ]
  },
  {
   "cell_type": "markdown",
   "metadata": {},
   "source": [
    "### Step 2. Create a data dictionary that looks like the DataFrame below"
   ]
  },
  {
   "cell_type": "code",
   "execution_count": null,
   "metadata": {
    "ExecuteTime": {
     "end_time": "2021-01-22T16:49:31.921586Z",
     "start_time": "2021-01-22T16:49:31.907803Z"
    }
   },
   "outputs": [],
   "source": [
    "pd.DataFrame({\"evolution\" : [\"Ivysaur\", \"Charmeleon\", \"Watortle\", \"Metapod\"], \n",
    "              \"hp\" : [45 ,39, 44, 45], \n",
    "              \"name\" : [\"Bulbasaur\", \"Charmander\", \"Squirtle\", \"Caterpie\"], \n",
    "              \"pokedex\" : [\"yes\", \"no\", \"yes\", \"no\"], \n",
    "              \"type\" : [\"grass\", \"fire\", \"water\", \"bug\"]})              "
   ]
  },
  {
   "cell_type": "markdown",
   "metadata": {},
   "source": [
    "### Step 3. Assign it to a variable called pokemon"
   ]
  },
  {
   "cell_type": "code",
   "execution_count": null,
   "metadata": {
    "ExecuteTime": {
     "end_time": "2021-01-22T16:49:32.009315Z",
     "start_time": "2021-01-22T16:49:31.923003Z"
    }
   },
   "outputs": [],
   "source": [
    "pokemon = pd.DataFrame({\"evolution\" : [\"Ivysaur\", \"Charmeleon\", \"Watortle\", \"Metapod\"], \n",
    "              \"hp\" : [45 ,39, 44, 45], \n",
    "              \"name\" : [\"Bulbasaur\", \"Charmander\", \"Squirtle\", \"Caterpie\"], \n",
    "              \"pokedex\" : [\"yes\", \"no\", \"yes\", \"no\"], \n",
    "              \"type\" : [\"grass\", \"fire\", \"water\", \"bug\"]})              "
   ]
  },
  {
   "cell_type": "markdown",
   "metadata": {},
   "source": [
    "### Step 4. Ops...it seems the DataFrame columns are in alphabetical order. Place  the order of the columns as name, type, hp, evolution, pokedex"
   ]
  },
  {
   "cell_type": "code",
   "execution_count": null,
   "metadata": {
    "ExecuteTime": {
     "end_time": "2021-01-22T16:49:32.313330Z",
     "start_time": "2021-01-22T16:49:32.011314Z"
    }
   },
   "outputs": [],
   "source": [
    "pokemon = pokemon.reindex(columns=[\"name\", \"type\", \"hp\", \"evolution\", \"pokedex\"])\n",
    "pokemon.head()"
   ]
  },
  {
   "cell_type": "markdown",
   "metadata": {},
   "source": [
    "### Step 5. Add another column called place, and insert what you have in mind."
   ]
  },
  {
   "cell_type": "code",
   "execution_count": null,
   "metadata": {
    "ExecuteTime": {
     "end_time": "2021-01-22T16:49:32.440909Z",
     "start_time": "2021-01-22T16:49:32.315576Z"
    }
   },
   "outputs": [],
   "source": [
    "pokemon[\"place\"] = [\"Manila\", \"Baguio\", \"Cainta\", \"Taguig\"]\n",
    "pokemon.head()"
   ]
  },
  {
   "cell_type": "markdown",
   "metadata": {},
   "source": [
    "### Step 6. Present the type of each column"
   ]
  },
  {
   "cell_type": "code",
   "execution_count": null,
   "metadata": {
    "ExecuteTime": {
     "end_time": "2021-01-22T16:50:26.813939Z",
     "start_time": "2021-01-22T16:50:26.809378Z"
    }
   },
   "outputs": [],
   "source": [
    "pokemon.dtypes"
   ]
  },
  {
   "cell_type": "markdown",
   "metadata": {},
   "source": [
    "### Display only the pokemons who are in the pokedex."
   ]
  },
  {
   "cell_type": "code",
   "execution_count": null,
   "metadata": {
    "ExecuteTime": {
     "end_time": "2021-01-22T16:54:50.806439Z",
     "start_time": "2021-01-22T16:54:50.794826Z"
    }
   },
   "outputs": [],
   "source": [
    "pokemon[pokemon[\"pokedex\"] == \"yes\"]"
   ]
  }
 ],
 "metadata": {
  "kernelspec": {
   "display_name": "Python 3",
   "language": "python",
   "name": "python3"
  },
  "language_info": {
   "codemirror_mode": {
    "name": "ipython",
    "version": 3
   },
   "file_extension": ".py",
   "mimetype": "text/x-python",
   "name": "python",
   "nbconvert_exporter": "python",
   "pygments_lexer": "ipython3",
   "version": "3.8.5"
  },
  "toc": {
   "base_numbering": 1,
   "nav_menu": {},
   "number_sections": true,
   "sideBar": true,
   "skip_h1_title": false,
   "title_cell": "Table of Contents",
   "title_sidebar": "Contents",
   "toc_cell": false,
   "toc_position": {},
   "toc_section_display": true,
   "toc_window_display": false
  }
 },
 "nbformat": 4,
 "nbformat_minor": 1
}