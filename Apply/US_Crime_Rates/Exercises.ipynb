{
 "cells": [
  {
   "cell_type": "markdown",
   "metadata": {},
   "source": [
    "# United States - Crime Rates - 1960 - 2014"
   ]
  },
  {
   "cell_type": "markdown",
   "metadata": {},
   "source": [
    "### Introduction:\n",
    "\n",
    "This time you will create a data \n",
    "\n",
    "Special thanks to: https://github.com/justmarkham for sharing the dataset and materials.\n",
    "\n",
    "### Step 1. Import the necessary libraries"
   ]
  },
  {
   "cell_type": "code",
   "execution_count": 3,
   "metadata": {
    "collapsed": false
   },
   "outputs": [],
   "source": [
    "import numpy as np\n",
    "import pandas as pd"
   ]
  },
  {
   "cell_type": "markdown",
   "metadata": {},
   "source": [
    "### Step 2. Import the dataset from this [address](https://raw.githubusercontent.com/guipsamora/pandas_exercises/master/Apply/US%20Crime%20Rates/United_States_Crime_Rates_1960_2014.csv). "
   ]
  },
  {
   "cell_type": "markdown",
   "metadata": {},
   "source": [
    "### Step 3. Assign it to a variable called crime."
   ]
  },
  {
   "cell_type": "code",
   "execution_count": 31,
   "metadata": {
    "collapsed": false
   },
   "outputs": [
    {
     "data": {
      "text/html": [
       "<div>\n",
       "<table border=\"1\" class=\"dataframe\">\n",
       "  <thead>\n",
       "    <tr style=\"text-align: right;\">\n",
       "      <th></th>\n",
       "      <th>Year</th>\n",
       "      <th>Population</th>\n",
       "      <th>Total</th>\n",
       "      <th>Violent</th>\n",
       "      <th>Property</th>\n",
       "      <th>Murder</th>\n",
       "      <th>Forcible_Rape</th>\n",
       "      <th>Robbery</th>\n",
       "      <th>Aggravated_assault</th>\n",
       "      <th>Burglary</th>\n",
       "      <th>Larceny_Theft</th>\n",
       "      <th>Vehicle_Theft</th>\n",
       "    </tr>\n",
       "  </thead>\n",
       "  <tbody>\n",
       "    <tr>\n",
       "      <th>0</th>\n",
       "      <td>1960</td>\n",
       "      <td>179,323,175</td>\n",
       "      <td>3,384,200</td>\n",
       "      <td>288,460</td>\n",
       "      <td>3,095,700</td>\n",
       "      <td>9,110</td>\n",
       "      <td>17,190</td>\n",
       "      <td>107,840</td>\n",
       "      <td>154,320</td>\n",
       "      <td>912,100</td>\n",
       "      <td>1,855,400</td>\n",
       "      <td>328,200</td>\n",
       "    </tr>\n",
       "    <tr>\n",
       "      <th>1</th>\n",
       "      <td>1961</td>\n",
       "      <td>182,992,000</td>\n",
       "      <td>3,488,000</td>\n",
       "      <td>289,390</td>\n",
       "      <td>3,198,600</td>\n",
       "      <td>8,740</td>\n",
       "      <td>17,220</td>\n",
       "      <td>106,670</td>\n",
       "      <td>156,760</td>\n",
       "      <td>949,600</td>\n",
       "      <td>1,913,000</td>\n",
       "      <td>336,000</td>\n",
       "    </tr>\n",
       "    <tr>\n",
       "      <th>2</th>\n",
       "      <td>1962</td>\n",
       "      <td>185,771,000</td>\n",
       "      <td>3,752,200</td>\n",
       "      <td>301,510</td>\n",
       "      <td>3,450,700</td>\n",
       "      <td>8,530</td>\n",
       "      <td>17,550</td>\n",
       "      <td>110,860</td>\n",
       "      <td>164,570</td>\n",
       "      <td>994,300</td>\n",
       "      <td>2,089,600</td>\n",
       "      <td>366,800</td>\n",
       "    </tr>\n",
       "    <tr>\n",
       "      <th>3</th>\n",
       "      <td>1963</td>\n",
       "      <td>188,483,000</td>\n",
       "      <td>4,109,500</td>\n",
       "      <td>316,970</td>\n",
       "      <td>3,792,500</td>\n",
       "      <td>8,640</td>\n",
       "      <td>17,650</td>\n",
       "      <td>116,470</td>\n",
       "      <td>174,210</td>\n",
       "      <td>1,086,400</td>\n",
       "      <td>2,297,800</td>\n",
       "      <td>408,300</td>\n",
       "    </tr>\n",
       "    <tr>\n",
       "      <th>4</th>\n",
       "      <td>1964</td>\n",
       "      <td>191,141,000</td>\n",
       "      <td>4,564,600</td>\n",
       "      <td>364,220</td>\n",
       "      <td>4,200,400</td>\n",
       "      <td>9,360</td>\n",
       "      <td>21,420</td>\n",
       "      <td>130,390</td>\n",
       "      <td>203,050</td>\n",
       "      <td>1,213,200</td>\n",
       "      <td>2,514,400</td>\n",
       "      <td>472,800</td>\n",
       "    </tr>\n",
       "  </tbody>\n",
       "</table>\n",
       "</div>"
      ],
      "text/plain": [
       "   Year   Population      Total  Violent   Property Murder Forcible_Rape  \\\n",
       "0  1960  179,323,175  3,384,200  288,460  3,095,700  9,110        17,190   \n",
       "1  1961  182,992,000  3,488,000  289,390  3,198,600  8,740        17,220   \n",
       "2  1962  185,771,000  3,752,200  301,510  3,450,700  8,530        17,550   \n",
       "3  1963  188,483,000  4,109,500  316,970  3,792,500  8,640        17,650   \n",
       "4  1964  191,141,000  4,564,600  364,220  4,200,400  9,360        21,420   \n",
       "\n",
       "   Robbery Aggravated_assault   Burglary Larceny_Theft Vehicle_Theft  \n",
       "0  107,840            154,320    912,100     1,855,400       328,200  \n",
       "1  106,670            156,760    949,600     1,913,000       336,000  \n",
       "2  110,860            164,570    994,300     2,089,600       366,800  \n",
       "3  116,470            174,210  1,086,400     2,297,800       408,300  \n",
       "4  130,390            203,050  1,213,200     2,514,400       472,800  "
      ]
     },
     "execution_count": 31,
     "metadata": {},
     "output_type": "execute_result"
    }
   ],
   "source": [
    "url = \"https://raw.githubusercontent.com/guipsamora/pandas_exercises/master/Apply/US%20Crime%20Rates/United_States_Crime_Rates_1960_2014.csv\"\n",
    "crime = pd.read_csv(url)\n",
    "crime.head()"
   ]
  },
  {
   "cell_type": "markdown",
   "metadata": {},
   "source": [
    "### Step 4. Set the Year column as the index of the dataframe"
   ]
  },
  {
   "cell_type": "code",
   "execution_count": 63,
   "metadata": {
    "collapsed": false
   },
   "outputs": [
    {
     "data": {
      "text/plain": [
       "(55, 11)"
      ]
     },
     "execution_count": 63,
     "metadata": {},
     "output_type": "execute_result"
    }
   ],
   "source": [
    "crime = crime.set_index('Year', drop = True)\n",
    "crime.head()"
   ]
  },
  {
   "cell_type": "markdown",
   "metadata": {},
   "source": [
    "### Step 5. What is the type of the columns?"
   ]
  },
  {
   "cell_type": "code",
   "execution_count": 41,
   "metadata": {
    "collapsed": false
   },
   "outputs": [
    {
     "name": "stdout",
     "output_type": "stream",
     "text": [
      "<class 'pandas.core.frame.DataFrame'>\n",
      "Int64Index: 55 entries, 1960 to 2014\n",
      "Data columns (total 11 columns):\n",
      "Population            55 non-null object\n",
      "Total                 55 non-null object\n",
      "Violent               55 non-null object\n",
      "Property              55 non-null object\n",
      "Murder                55 non-null object\n",
      "Forcible_Rape         55 non-null object\n",
      "Robbery               55 non-null object\n",
      "Aggravated_assault    55 non-null object\n",
      "Burglary              55 non-null object\n",
      "Larceny_Theft         55 non-null object\n",
      "Vehicle_Theft         55 non-null object\n",
      "dtypes: object(11)\n",
      "memory usage: 5.2+ KB\n"
     ]
    }
   ],
   "source": [
    "crime.info()"
   ]
  },
  {
   "cell_type": "markdown",
   "metadata": {},
   "source": [
    "### Step 6. What is the number of columns in the dataset?"
   ]
  },
  {
   "cell_type": "code",
   "execution_count": 94,
   "metadata": {
    "collapsed": false
   },
   "outputs": [
    {
     "name": "stdout",
     "output_type": "stream",
     "text": [
      "<class 'pandas.core.frame.DataFrame'>\n",
      "Int64Index: 55 entries, 1960 to 2014\n",
      "Data columns (total 11 columns):\n",
      "Population            55 non-null object\n",
      "Total                 55 non-null object\n",
      "Violent               55 non-null object\n",
      "Property              55 non-null object\n",
      "Murder                55 non-null object\n",
      "Forcible_Rape         55 non-null object\n",
      "Robbery               55 non-null object\n",
      "Aggravated_assault    55 non-null object\n",
      "Burglary              55 non-null object\n",
      "Larceny_Theft         55 non-null object\n",
      "Vehicle_Theft         55 non-null object\n",
      "dtypes: object(11)\n",
      "memory usage: 5.2+ KB\n"
     ]
    }
   ],
   "source": [
    "# # numbers_columns = crime.loc[: , \"Population\":\"Vehicle_Theft\"]\n",
    "# # numbers_columns.head()\n",
    "\n",
    "# s = crime.ix[:,0]\n",
    "\n",
    "# # s.convert_objects(convert_numeric = True)\n",
    "# pd.to_numeric(s)\n",
    "\n",
    "# pd.to_numeric(s, errors='ignore')\n",
    "# pd.to_numeric(s, errors='coerce')\n",
    "\n",
    "# crime.convert_objects(convert_numeric=True)\n",
    "\n",
    "# df.column_name = df.column_name.astype(float)\n",
    "\n",
    "crime.Population = crime.Population.astype(str)\n",
    "crime.info()\n",
    "# crime.Population.dtypes"
   ]
  },
  {
   "cell_type": "markdown",
   "metadata": {},
   "source": [
    "### Step 7. Print the name of all the columns."
   ]
  },
  {
   "cell_type": "code",
   "execution_count": 88,
   "metadata": {
    "collapsed": false
   },
   "outputs": [
    {
     "data": {
      "text/plain": [
       "Population            object\n",
       "Total                 object\n",
       "Violent               object\n",
       "Property              object\n",
       "Murder                object\n",
       "Forcible_Rape         object\n",
       "Robbery               object\n",
       "Aggravated_assault    object\n",
       "Burglary              object\n",
       "Larceny_Theft         object\n",
       "Vehicle_Theft         object\n",
       "dtype: object"
      ]
     },
     "execution_count": 88,
     "metadata": {},
     "output_type": "execute_result"
    }
   ],
   "source": [
    "crime.dtypes"
   ]
  },
  {
   "cell_type": "markdown",
   "metadata": {},
   "source": [
    "### Step 8. How is the dataset indexed?"
   ]
  },
  {
   "cell_type": "code",
   "execution_count": null,
   "metadata": {
    "collapsed": false
   },
   "outputs": [],
   "source": []
  },
  {
   "cell_type": "markdown",
   "metadata": {},
   "source": [
    "### Step 9. Which was the most ordered item?"
   ]
  },
  {
   "cell_type": "code",
   "execution_count": null,
   "metadata": {
    "collapsed": false
   },
   "outputs": [],
   "source": []
  },
  {
   "cell_type": "markdown",
   "metadata": {},
   "source": [
    "### Step 10. What was the most ordered item?"
   ]
  },
  {
   "cell_type": "code",
   "execution_count": null,
   "metadata": {
    "collapsed": false
   },
   "outputs": [],
   "source": []
  },
  {
   "cell_type": "markdown",
   "metadata": {},
   "source": [
    "### Step 11. How many items were orderd in total?"
   ]
  },
  {
   "cell_type": "code",
   "execution_count": null,
   "metadata": {
    "collapsed": false
   },
   "outputs": [],
   "source": []
  },
  {
   "cell_type": "markdown",
   "metadata": {},
   "source": [
    "### Step 12. How many orders have more than 1 item?"
   ]
  },
  {
   "cell_type": "code",
   "execution_count": null,
   "metadata": {
    "collapsed": false
   },
   "outputs": [],
   "source": []
  },
  {
   "cell_type": "markdown",
   "metadata": {},
   "source": [
    "### Step 13. How much was the revenue for the period in the dataset?"
   ]
  },
  {
   "cell_type": "code",
   "execution_count": null,
   "metadata": {
    "collapsed": false
   },
   "outputs": [],
   "source": []
  },
  {
   "cell_type": "markdown",
   "metadata": {},
   "source": [
    "### Step 14. How many orders were made in the period?"
   ]
  },
  {
   "cell_type": "code",
   "execution_count": null,
   "metadata": {
    "collapsed": true
   },
   "outputs": [],
   "source": []
  },
  {
   "cell_type": "markdown",
   "metadata": {},
   "source": [
    "### Step 15. What is the average amount per order?"
   ]
  },
  {
   "cell_type": "code",
   "execution_count": null,
   "metadata": {
    "collapsed": true
   },
   "outputs": [],
   "source": []
  },
  {
   "cell_type": "markdown",
   "metadata": {},
   "source": [
    "### Step 16. How many different itens are sold?"
   ]
  },
  {
   "cell_type": "code",
   "execution_count": null,
   "metadata": {
    "collapsed": true
   },
   "outputs": [],
   "source": []
  }
 ],
 "metadata": {
  "kernelspec": {
   "display_name": "Python 2",
   "language": "python",
   "name": "python2"
  },
  "language_info": {
   "codemirror_mode": {
    "name": "ipython",
    "version": 2
   },
   "file_extension": ".py",
   "mimetype": "text/x-python",
   "name": "python",
   "nbconvert_exporter": "python",
   "pygments_lexer": "ipython2",
   "version": "2.7.11"
  }
 },
 "nbformat": 4,
 "nbformat_minor": 0
}
